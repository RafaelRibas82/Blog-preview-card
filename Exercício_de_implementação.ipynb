{
  "nbformat": 4,
  "nbformat_minor": 0,
  "metadata": {
    "colab": {
      "provenance": [],
      "authorship_tag": "ABX9TyNTdSxATYAT/MrmYW/G88aN",
      "include_colab_link": true
    },
    "kernelspec": {
      "name": "python3",
      "display_name": "Python 3"
    },
    "language_info": {
      "name": "python"
    }
  },
  "cells": [
    {
      "cell_type": "markdown",
      "metadata": {
        "id": "view-in-github",
        "colab_type": "text"
      },
      "source": [
        "<a href=\"https://colab.research.google.com/github/RafaelRibas82/Blog-preview-card/blob/main/Exerc%C3%ADcio_de_implementa%C3%A7%C3%A3o.ipynb\" target=\"_parent\"><img src=\"https://colab.research.google.com/assets/colab-badge.svg\" alt=\"Open In Colab\"/></a>"
      ]
    },
    {
      "cell_type": "code",
      "execution_count": 1,
      "metadata": {
        "colab": {
          "base_uri": "https://localhost:8080/"
        },
        "id": "y5SAr_H3kY0X",
        "outputId": "368df48f-ce7a-49c7-ed96-0d2efbdd7e84"
      },
      "outputs": [
        {
          "output_type": "stream",
          "name": "stdout",
          "text": [
            "Pesos iniciais: [0.37454012 0.95071431 0.73199394]\n",
            "Convergência atingida na época 8\n",
            "Pesos finais: [ 0.17454012  0.35071431 -0.46800606]\n",
            "\n",
            "Resultados no dataset:\n",
            "Entrada: [0 0 1], Saída esperada: 0, Saída do neurônio: 0\n",
            "Entrada: [0 1 1], Saída esperada: 0, Saída do neurônio: 0\n",
            "Entrada: [1 0 1], Saída esperada: 0, Saída do neurônio: 0\n",
            "Entrada: [1 1 1], Saída esperada: 1, Saída do neurônio: 1\n"
          ]
        }
      ],
      "source": [
        "# Código de um neurônio único com modificações\n",
        "\n",
        "import numpy as np\n",
        "\n",
        "# Configuração inicial\n",
        "np.random.seed(42)  # Alterar para mudar os valores iniciais\n",
        "learning_rate = 0.1  # Taxa de aprendizado\n",
        "max_epochs = 1000  # Número máximo de treinamentos\n",
        "\n",
        "# Dataset em duas dimensões (com bias)\n",
        "# Pontos no formato [x1, x2, bias], target\n",
        "dataset = np.array([\n",
        "    [0, 0, 1, 0],  # [x1, x2, bias], target\n",
        "    [0, 1, 1, 0],\n",
        "    [1, 0, 1, 0],\n",
        "    [1, 1, 1, 1],\n",
        "])\n",
        "\n",
        "# Separando entradas (X) e saídas (y)\n",
        "X = dataset[:, :3]\n",
        "y = dataset[:, 3]\n",
        "\n",
        "# Inicializando os pesos com valores aleatórios\n",
        "weights = np.random.rand(3)\n",
        "print(\"Pesos iniciais:\", weights)\n",
        "\n",
        "# Função de ativação (Step Function)\n",
        "def step_function(x):\n",
        "    return 1 if x >= 0 else 0\n",
        "\n",
        "# Treinamento do neurônio\n",
        "for epoch in range(max_epochs):\n",
        "    error_count = 0\n",
        "    for i in range(len(X)):\n",
        "        net_input = np.dot(X[i], weights)\n",
        "        output = step_function(net_input)\n",
        "        error = y[i] - output\n",
        "        if error != 0:\n",
        "            weights += learning_rate * error * X[i]\n",
        "            error_count += 1\n",
        "    if error_count == 0:\n",
        "        print(f\"Convergência atingida na época {epoch + 1}\")\n",
        "        break\n",
        "\n",
        "print(\"Pesos finais:\", weights)\n",
        "\n",
        "# Testando o neurônio com os dados de treinamento\n",
        "print(\"\\nResultados no dataset:\")\n",
        "for i in range(len(X)):\n",
        "    net_input = np.dot(X[i], weights)\n",
        "    output = step_function(net_input)\n",
        "    print(f\"Entrada: {X[i]}, Saída esperada: {y[i]}, Saída do neurônio: {output}\")\n"
      ]
    }
  ]
}